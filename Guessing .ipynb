{
 "cells": [
  {
   "cell_type": "markdown",
   "metadata": {},
   "source": [
    "# Guessing a correct number selected by Computer in your range"
   ]
  },
  {
   "cell_type": "code",
   "execution_count": 1,
   "metadata": {},
   "outputs": [],
   "source": [
    "import random"
   ]
  },
  {
   "cell_type": "code",
   "execution_count": 2,
   "metadata": {},
   "outputs": [
    {
     "name": "stdout",
     "output_type": "stream",
     "text": [
      " your smaller number is :1\n"
     ]
    }
   ],
   "source": [
    "smaller = int(input(' your smaller number is :'))"
   ]
  },
  {
   "cell_type": "code",
   "execution_count": 3,
   "metadata": {},
   "outputs": [
    {
     "name": "stdout",
     "output_type": "stream",
     "text": [
      "your larger number is : 10\n"
     ]
    }
   ],
   "source": [
    "larger = int(input('your larger number is :'))"
   ]
  },
  {
   "cell_type": "code",
   "execution_count": 4,
   "metadata": {},
   "outputs": [],
   "source": [
    " mynumber = random.randint(smaller , larger)"
   ]
  },
  {
   "cell_type": "code",
   "execution_count": 5,
   "metadata": {},
   "outputs": [],
   "source": [
    "count = 0"
   ]
  },
  {
   "cell_type": "code",
   "execution_count": null,
   "metadata": {},
   "outputs": [
    {
     "name": "stdout",
     "output_type": "stream",
     "text": [
      "Enter your guess 4\n",
      "your number is too small\n",
      "Enter your guess5\n",
      "your number is too small\n",
      "Enter your guess7\n",
      " yay congratulations! you got it in 3 tries\n"
     ]
    }
   ],
   "source": [
    "while True :\n",
    "    count += 1\n",
    "    usernumber = int(input('Enter your guess'))\n",
    "    if usernumber < mynumber :\n",
    "        print(\"your number is too small\")\n",
    "    elif usernumber > mynumber :\n",
    "        print (\"your number is too large\")\n",
    "    else :\n",
    "        print(\" yay congratulations! you got it in\" , count, \"tries\")"
   ]
  },
  {
   "cell_type": "code",
   "execution_count": null,
   "metadata": {},
   "outputs": [],
   "source": []
  }
 ],
 "metadata": {
  "kernelspec": {
   "display_name": "Python 3",
   "language": "python",
   "name": "python3"
  },
  "language_info": {
   "codemirror_mode": {
    "name": "ipython",
    "version": 3
   },
   "file_extension": ".py",
   "mimetype": "text/x-python",
   "name": "python",
   "nbconvert_exporter": "python",
   "pygments_lexer": "ipython3",
   "version": "3.7.1"
  }
 },
 "nbformat": 4,
 "nbformat_minor": 2
}
